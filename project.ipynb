{
 "cells": [
  {
   "cell_type": "code",
   "execution_count": null,
   "id": "e82338e0-59d0-471a-9438-40e270f8bbed",
   "metadata": {},
   "outputs": [],
   "source": [
    "!pip install torcheval"
   ]
  },
  {
   "cell_type": "code",
   "execution_count": null,
   "id": "13b80c0c-ed16-405f-bdad-9d965cdea8be",
   "metadata": {},
   "outputs": [],
   "source": []
  },
  {
   "cell_type": "code",
   "execution_count": null,
   "id": "63a51cf6-e9c5-4c41-856a-ffbda1894698",
   "metadata": {},
   "outputs": [],
   "source": [
    "runs =r\"C:\\Users\\murugesan_r\\OneDrive - Prelude Systems Inc\\PRELUDESYS\\GITHUB\\NISM\\TRIMESTER-5\\runs\"\n",
    "runs =r\"C:\\\\Users\\\\murugesan_r\\\\OneDrive - Prelude Systems Inc\\\\PRELUDESYS\\\\GITHUB\\\\NISM\\\\TRIMESTER-5\\\\runs\"\n",
    "!tensorboard --logdir = runs"
   ]
  },
  {
   "cell_type": "code",
   "execution_count": null,
   "id": "62a30485-c2aa-4328-8be7-e3312aba211a",
   "metadata": {},
   "outputs": [],
   "source": [
    "!dir"
   ]
  },
  {
   "cell_type": "code",
   "execution_count": null,
   "id": "17a24219-045b-48ed-9ada-7226a9db1095",
   "metadata": {},
   "outputs": [],
   "source": [
    "import numpy as np, pandas as pd, os,math\n",
    "from datetime import datetime, timedelta\n",
    "from pandas.core.dtypes.dtypes import date\n",
    "from nixtlats import TimeGPT\n",
    "from torch.utils.data import DataLoader, Dataset\n",
    "import torch\n",
    "from yahoo_fin.stock_info import get_data\n",
    "from yahoo_fin.stock_info import tickers_nifty50\n",
    "import torch\n",
    "from torch.utils.tensorboard import SummaryWriter\n",
    "from torcheval.metrics.functional import r2_score\n"
   ]
  },
  {
   "cell_type": "code",
   "execution_count": null,
   "id": "10f65748-678b-45c5-b7c5-d15688a9947a",
   "metadata": {},
   "outputs": [],
   "source": [
    "get_data('INFY.NS', start_date = start_date, end_date = end_date, index_as_date = False)"
   ]
  },
  {
   "cell_type": "code",
   "execution_count": null,
   "id": "a2bee2bc-355e-4105-8584-c2a7d9cb479a",
   "metadata": {},
   "outputs": [],
   "source": [
    "def get_stock_data_from_yahooo_api(scripts_list,start_date=None,end_date=None,frequency=\"1d\",interval=1,key='close'):\n",
    "    inputs = [] #close_price[:-1]\n",
    "    targets = [] #close_price[1:]\n",
    "    for script in scripts_list:\n",
    "        df = get_data(script, start_date = start_date, end_date = end_date, index_as_date = False, interval = frequency)\n",
    "        df[key] = df[key].apply(lambda x: round(x,2))\n",
    "        \n",
    "        close_price = df['close'].values.tolist()\n",
    "    return df"
   ]
  },
  {
   "cell_type": "code",
   "execution_count": null,
   "id": "030b42d1-4c4a-476a-8497-2e1b0d1dba7b",
   "metadata": {},
   "outputs": [],
   "source": [
    "scripts_list =  [\"INFY.NS\",'WIPRO.NS']\n",
    "# scripts_list =  [\"INFY.NS\",'HCLTECH.NS','WIPRO.NS','TCS.NS','^NSEI']\n",
    "# scripts_list =  ['^NSEI']\n",
    "scripts_list =  [\"INFY.NS\"]\n",
    "start_date = datetime.today() - timedelta(days= 377)\n",
    "start_date = datetime.today() - timedelta(days= 765)\n",
    "# start_date = datetime.today() - timedelta(days= 8250)\n",
    "end_date = datetime.today() \n",
    "# start_date=None\n",
    "end_date=None\n",
    "# inputs,targets = get_stock_data_from_yahooo_api(scripts_list,start_date,end_date)\n",
    "df = get_stock_data_from_yahooo_api(scripts_list,start_date,end_date)\n",
    "close_price_b = df['close'].values.tolist()\n",
    "len(close_price_b)"
   ]
  },
  {
   "cell_type": "code",
   "execution_count": 74,
   "id": "6a7d125a-7f95-478b-a0d3-6172d33cf6db",
   "metadata": {},
   "outputs": [
    {
     "data": {
      "text/plain": [
       "518"
      ]
     },
     "execution_count": 74,
     "metadata": {},
     "output_type": "execute_result"
    }
   ],
   "source": [
    "close_price = [int(round(i,0)) for i in close_price_b ]\n",
    "len(close_price)"
   ]
  },
  {
   "cell_type": "code",
   "execution_count": null,
   "id": "bb1e3cb5-1d5b-427e-a003-fa553f830e7b",
   "metadata": {},
   "outputs": [],
   "source": [
    "def prepare_trg_data(close_price,seq_len=512):\n",
    "    inputs = []\n",
    "    targets = []\n",
    "    for i in range(0,len(close_price)):\n",
    "        _ = close_price[i:seq_len+i]\n",
    "        __  = close_price[i+1:seq_len+i+1]\n",
    "        if len(_) !=512 or len(__) != 512:\n",
    "            break\n",
    "        inputs.append(_)\n",
    "        targets.append(__)\n",
    "    return inputs,targets\n",
    "        \n",
    "inputs,targets = prepare_trg_data(close_price,seq_len=512)\n",
    "print(\"LEn:\",len(inputs),len(targets),sep=\"#\")\n"
   ]
  },
  {
   "cell_type": "code",
   "execution_count": null,
   "id": "b7841267-423c-49c9-ad8d-97a44312a2f6",
   "metadata": {},
   "outputs": [],
   "source": [
    "len(inputs[-1])"
   ]
  },
  {
   "cell_type": "code",
   "execution_count": null,
   "id": "801a3ad2-57ee-4176-ab51-76ec7822d34a",
   "metadata": {},
   "outputs": [],
   "source": [
    "test_inputs = inputs[-2:]\n",
    "test_targets = targets[-2:]\n",
    "len(test_inputs)\n",
    "inputs = inputs[:-2]\n",
    "targets = targets[:-2]\n",
    "print(\"LEn:\",len(inputs),len(targets),len(test_inputs) , len(test_targets),sep=\"$\")"
   ]
  },
  {
   "cell_type": "code",
   "execution_count": null,
   "id": "9939fd3d-f35f-4d44-a925-4772c3c6125e",
   "metadata": {},
   "outputs": [],
   "source": [
    "test_inputs = inputs[:32]\n",
    "\n",
    "inputs = inputs[-128:-32]\n",
    "targets = targets[-128:-32]\n",
    "print(\"LEn:\",len(inputs),len(targets),sep=\"$\")"
   ]
  },
  {
   "cell_type": "code",
   "execution_count": null,
   "id": "9de23e75-9f54-480d-8826-2667dbb57498",
   "metadata": {},
   "outputs": [],
   "source": [
    "len(inputs),len(targets)"
   ]
  },
  {
   "cell_type": "code",
   "execution_count": null,
   "id": "350bfaf2-5351-4962-a279-16e0c83114f3",
   "metadata": {},
   "outputs": [],
   "source": [
    "test_targets"
   ]
  },
  {
   "cell_type": "code",
   "execution_count": null,
   "id": "acd81dae-ecdd-4cbf-8bfd-ba5854be5dfd",
   "metadata": {},
   "outputs": [],
   "source": [
    "len(test_inputs), len(test_targets)"
   ]
  },
  {
   "cell_type": "code",
   "execution_count": null,
   "id": "0a80936b-0ba5-4abf-a4aa-9aff844a3376",
   "metadata": {},
   "outputs": [],
   "source": [
    "a =[1,2,3,4,5,6,7,8,9,10]\n",
    "a[-4:],a[:-2]"
   ]
  },
  {
   "cell_type": "code",
   "execution_count": null,
   "id": "764c8796-3183-4b23-a0f7-eca63f3f1540",
   "metadata": {},
   "outputs": [],
   "source": [
    "train_input = close_price[:512]\n",
    "train_target = close_price[1:513]\n",
    "\n",
    "test_inputs = close_price[-513:-1]\n",
    "test_targets = close_price[-512:]\n",
    "len(train_input),len(train_target),len(test)\n",
    "# test_target = close_price[]\n",
    "\n",
    "inputs = [train_input]\n",
    "targets = [train_target]\n",
    "\n",
    "len(train_input),len(train_target),len(test_inputs),len(test_targets)"
   ]
  },
  {
   "cell_type": "code",
   "execution_count": null,
   "id": "72e8b47c-be93-492d-a8cd-5606af905293",
   "metadata": {},
   "outputs": [],
   "source": [
    "test_inputs = [test_inputs]\n",
    "test_targets =[ test_targets]"
   ]
  },
  {
   "cell_type": "code",
   "execution_count": null,
   "id": "39f5dc4a-eab1-4aa7-88fb-94079b69647c",
   "metadata": {},
   "outputs": [],
   "source": [
    "script =  \"INFY.NS\"\n",
    "start_date = datetime.today() - timedelta(days=848)\n",
    "end_Date = datetime.today() \n",
    "df = get_data(script, start_date = start_date, end_date = end_Date, index_as_date = True, interval = '1d')\n",
    "df.dropna(inplace=True)\n",
    "df['close'] = df['close'].apply(lambda x : round(int(x),0))\n",
    "close_price = df['close'].values.tolist()\n",
    "len(close_price)"
   ]
  },
  {
   "cell_type": "code",
   "execution_count": null,
   "id": "71daab37-d6cc-4e11-a880-ef8e81918713",
   "metadata": {},
   "outputs": [],
   "source": [
    "inputs = close_price[:-1]\n",
    "targets = close_price[1:]"
   ]
  },
  {
   "cell_type": "code",
   "execution_count": null,
   "id": "f6f298f0-bd93-466c-b765-8e4f0c3f7cfa",
   "metadata": {},
   "outputs": [],
   "source": [
    "inputs"
   ]
  },
  {
   "cell_type": "code",
   "execution_count": null,
   "id": "27e906c5-c3c4-46a9-8b8c-cf4688bd8576",
   "metadata": {},
   "outputs": [],
   "source": [
    "len(close_price[-128:]),close_price[-128:]"
   ]
  },
  {
   "cell_type": "code",
   "execution_count": null,
   "id": "a1fcd0d5-1017-489b-9a6c-7cc853f866e4",
   "metadata": {},
   "outputs": [],
   "source": [
    "len(inputs),len(targets),type(inputs)"
   ]
  },
  {
   "cell_type": "code",
   "execution_count": null,
   "id": "1ada4d6e-761d-4ff8-a178-8eb67b9cc9ea",
   "metadata": {},
   "outputs": [],
   "source": [
    "#forward slice\n",
    "seq_length=128\n",
    "inputs = [ close_price[i:i+seq_length] for i in range(0,len(close_price),seq_length)]\n",
    "targets = inputs = [ close_price[i:i+seq_length] for i in range(1,len(close_price),seq_length)]\n",
    "print(len(inputs),len(targets))\n",
    "inputs.pop()\n",
    "targets.pop()\n",
    "print(len(inputs),len(targets),sep=\"#\")"
   ]
  },
  {
   "cell_type": "code",
   "execution_count": null,
   "id": "0857bed7-fb35-437b-afcc-918d7366f38c",
   "metadata": {},
   "outputs": [],
   "source": [
    "a=[1,2,3,4,5,6,7]\n",
    "x = -6\n",
    "a[x:x+2]"
   ]
  },
  {
   "cell_type": "code",
   "execution_count": null,
   "id": "34bdf676-9d6a-4668-a049-412a513c7eed",
   "metadata": {},
   "outputs": [],
   "source": [
    "#backward slice\n",
    "seq_length=128\n",
    "inputs = [ close_price[-(i) : -(i) ] for i in range(len(close_price)-1,0, -seq_length)]\n",
    "targets = inputs = [ close_price[i:i+seq_length] for i in range(1,len(close_price),seq_length)]\n",
    "print(len(inputs),len(targets))\n",
    "inputs.pop()\n",
    "targets.pop()\n",
    "print(len(inputs),len(targets),sep=\"#\")"
   ]
  },
  {
   "cell_type": "code",
   "execution_count": null,
   "id": "2c7b80a4-f170-43bd-ba04-8ef66ebfeef0",
   "metadata": {},
   "outputs": [],
   "source": [
    "from transformers import BertTokenizer\n",
    "\n",
    "# Load a pre-trained BERT tokenizer\n",
    "tokenizer = BertTokenizer.from_pretrained(\"bert-base-uncased\")\n",
    "\n",
    "# Example input tokens\n",
    "tokens = [\"[CLS]\", \"This\", \"is\", \"an\", \"example\", \"sequence\", \"[SEP]\"]\n",
    "sent = [\" my name is murugesan\",\"welcome to bert tok. and my name is murug\"]\n",
    "sentence1 = \"I love chatbots.\"\n",
    "sentence2 = \"They are fascinating.\"\n",
    "# Convert tokens to input IDs\n",
    "input_ids = tokenizer.convert_tokens_to_ids(tokens)\n",
    "\n",
    "# Create an attention mask\n",
    "attention_mask = [1] * len(input_ids)\n",
    "\n",
    "# Print the results\n",
    "print(\"Input Tokens:\", tokens)\n",
    "print(\"Input IDs:\", input_ids.shape)\n",
    "print(\"Attention Mask:\", attention_mask.shape)\n"
   ]
  },
  {
   "cell_type": "code",
   "execution_count": null,
   "id": "29b9f23e-5d5e-4ac7-b127-81acf1417026",
   "metadata": {},
   "outputs": [],
   "source": [
    "input_ids = tokenizer(sentence1,sentence2, max_length=100,padding='max_length')\n",
    "torch.Tensor(input_ids['input_ids']).shape,torch.Tensor(input_ids['attention_mask']).shape,"
   ]
  },
  {
   "cell_type": "code",
   "execution_count": null,
   "id": "befc76f1-8cff-44c6-bdf8-e3655d4df43c",
   "metadata": {},
   "outputs": [],
   "source": [
    "a = torch.ones(2 ,1)\n",
    "a,a.shape,a.squeeze(1)"
   ]
  },
  {
   "cell_type": "code",
   "execution_count": null,
   "id": "b489d9fc-85f0-47f1-b02b-bdfc8b6a189d",
   "metadata": {},
   "outputs": [],
   "source": [
    "class my_dataset(Dataset):\n",
    "    def __init__(self,inputs,targets,seq_len=512):\n",
    "        self.inputs = inputs\n",
    "        self.targets = targets\n",
    "        self.seq_len = seq_len\n",
    "        self.atten_mask = None\n",
    "\n",
    "    def __len__(self):\n",
    "        return len(self.inputs)\n",
    "    def __getitem__(self,idx):\n",
    "        return torch.Tensor(self.inputs[idx]),torch.Tensor(self.targets[idx])\n",
    "\n",
    "ds = my_dataset(inputs,targets) \n",
    "ds_test = my_dataset(test_inputs,test_targets)\n",
    "dl = DataLoader(ds,shuffle=True,batch_size=64)\n",
    "dl_test = DataLoader(ds_test,batch_size=32,shuffle=True)"
   ]
  },
  {
   "cell_type": "code",
   "execution_count": null,
   "id": "814cb30c-bcc7-40fc-a505-82318c2df388",
   "metadata": {},
   "outputs": [],
   "source": [
    "len(inputs)"
   ]
  },
  {
   "cell_type": "code",
   "execution_count": null,
   "id": "9f068a50-34d2-406e-be71-c8322483b86a",
   "metadata": {},
   "outputs": [],
   "source": [
    "for i in dl_test:\n",
    "    inputs,targets = i\n",
    "    print(inputs.shape,targets.shape,)\n",
    "    # break"
   ]
  },
  {
   "cell_type": "code",
   "execution_count": null,
   "id": "00bd7e83-4eb8-4fc1-a620-a2fe3aa6c342",
   "metadata": {},
   "outputs": [],
   "source": [
    "model = torch.nn.Transformer()\n",
    "for i in dl_test:\n",
    "    model.eval()\n",
    "    inp,tar = i\n",
    "    # print(inp,tar)\n",
    "    # print(inp)\n",
    "    outputs = model( inp,tar)\n",
    "    print(outputs,tar)\n",
    "    break"
   ]
  },
  {
   "cell_type": "code",
   "execution_count": null,
   "id": "2b850846-cce1-42d8-9120-35232ccd64d5",
   "metadata": {},
   "outputs": [],
   "source": [
    "class Transformer_forcast(torch.nn.Module):\n",
    "    def __init__(self,out_features=64):\n",
    "        super(Transformer_forcast,self).__init__()\n",
    "        self.decoder = torch.nn.TransformerDecoder(num_layers=6,decoder_layer=torch.nn.TransformerDecoderLayer(d_model=64,nhead=8,activation=\"gelu\",))\n",
    "\n",
    "        self.lin1= torch.nn.Linear(in_features = 64, out_features=64)\n",
    "        self.act_2 = torch.nn.functional.gelu\n",
    "    def forward(self,inputs,targets):\n",
    "        inputs= self.decoder(targets,inputs)\n",
    "        inputs = self.lin1(inputs)\n",
    "        inputs = self.act_2(inputs)\n",
    "        return inputs\n",
    "model = Transformer_forcast()\n",
    "model"
   ]
  },
  {
   "cell_type": "code",
   "execution_count": null,
   "id": "a66878b8-c7ee-4c4a-bc8d-de40458d4762",
   "metadata": {},
   "outputs": [],
   "source": [
    "src_mask = torch.zeros(2,).type(torch.bool)\n",
    "src_mask"
   ]
  },
  {
   "cell_type": "code",
   "execution_count": null,
   "id": "548110c5-e85d-4f40-bb1b-37b72c7bace0",
   "metadata": {},
   "outputs": [],
   "source": [
    "help(torch.nn.TransformerDecoder)"
   ]
  },
  {
   "cell_type": "code",
   "execution_count": 70,
   "id": "2e8f3b86-74ab-46cf-ae31-dd3a764b787f",
   "metadata": {},
   "outputs": [
    {
     "data": {
      "text/plain": [
       "Transformer_forcast(\n",
       "  (encoder): TransformerEncoder(\n",
       "    (layers): ModuleList(\n",
       "      (0-5): 6 x TransformerEncoderLayer(\n",
       "        (self_attn): MultiheadAttention(\n",
       "          (out_proj): NonDynamicallyQuantizableLinear(in_features=512, out_features=512, bias=True)\n",
       "        )\n",
       "        (linear1): Linear(in_features=512, out_features=2048, bias=True)\n",
       "        (dropout): Dropout(p=0.1, inplace=False)\n",
       "        (linear2): Linear(in_features=2048, out_features=512, bias=True)\n",
       "        (norm1): LayerNorm((512,), eps=1e-05, elementwise_affine=True)\n",
       "        (norm2): LayerNorm((512,), eps=1e-05, elementwise_affine=True)\n",
       "        (dropout1): Dropout(p=0.1, inplace=False)\n",
       "        (dropout2): Dropout(p=0.1, inplace=False)\n",
       "      )\n",
       "    )\n",
       "  )\n",
       "  (lstm): LSTM(512, 512, num_layers=2)\n",
       "  (lin1): Linear(in_features=512, out_features=64, bias=True)\n",
       "  (lin2): Linear(in_features=64, out_features=1, bias=True)\n",
       ")"
      ]
     },
     "execution_count": 70,
     "metadata": {},
     "output_type": "execute_result"
    }
   ],
   "source": [
    "class Transformer_forcast(torch.nn.Module):\n",
    "    def __init__(self,out_features= 512,d_model=512,activation='relu',in_features=512,):\n",
    "        super(Transformer_forcast,self).__init__()\n",
    "        self.encoder = torch.nn.TransformerEncoder(num_layers=6,\n",
    "                                                   encoder_layer=torch.nn.TransformerEncoderLayer(\n",
    "                                                       d_model=d_model,nhead=8,activation=activation))\n",
    "        # self.lstm = torch.nn.LSTM(input_size=in_features,hidden_size=512,num_layers=2,bidirectional=False)\n",
    "        self.lin1= torch.nn.Linear(in_features = 512, out_features=1)\n",
    "        # self.lin2= torch.nn.Linear(in_features = 64, out_features=1)\n",
    "        self.act_2 = torch.nn.functional.gelu\n",
    "    def forward(self,inputs):\n",
    "        inputs= self.encoder(src=inputs)\n",
    "        # inputs, (hn, cn)  = self.lstm(inputs)\n",
    "        inputs = self.lin1(inputs)\n",
    "        # inputs = self.lin2(inputs)\n",
    "        inputs = self.act_2(inputs)\n",
    "        return inputs\n",
    "    \n",
    "        \n",
    "model = Transformer_forcast(out_features= 512,d_model=512,activation='gelu',in_features=512,)\n",
    "model"
   ]
  },
  {
   "cell_type": "code",
   "execution_count": 72,
   "id": "92c8432e-11e8-4995-8744-f1ee277d92ae",
   "metadata": {},
   "outputs": [
    {
     "name": "stdout",
     "output_type": "stream",
     "text": [
      " Epochs 131 and loss is 28257.041015625 \n",
      " Epochs 132 and loss is 28256.642578125 \n",
      " Epochs 133 and loss is 28256.8125 \n",
      " Epochs 134 and loss is 28256.9296875 \n",
      " Epochs 135 and loss is 28256.654296875 \n",
      " Epochs 136 and loss is 28256.7734375 \n",
      " Epochs 137 and loss is 28257.0625 \n",
      " Epochs 138 and loss is 28256.5078125 \n",
      " Epochs 139 and loss is 28256.453125 \n",
      " Epochs 140 and loss is 28256.6640625 \n",
      " Epochs 141 and loss is 28256.76171875 \n",
      " Epochs 142 and loss is 28257.3671875 \n",
      " Epochs 143 and loss is 28256.86328125 \n",
      " Epochs 144 and loss is 28256.42578125 \n",
      " Epochs 145 and loss is 28257.158203125 \n",
      " Epochs 146 and loss is 28256.345703125 \n",
      " Epochs 147 and loss is 28256.818359375 \n",
      " Epochs 148 and loss is 28256.630859375 \n",
      " Epochs 149 and loss is 28256.61328125 \n",
      " Epochs 150 and loss is 28256.572265625 \n",
      " Epochs 151 and loss is 28257.41015625 \n",
      " Epochs 152 and loss is 28256.81640625 \n",
      " Epochs 153 and loss is 28257.140625 \n",
      " Epochs 154 and loss is 28257.013671875 \n",
      " Epochs 155 and loss is 28256.876953125 \n",
      " Epochs 156 and loss is 28258.029296875 \n",
      " Epochs 157 and loss is 28257.34375 \n",
      " Epochs 158 and loss is 28256.728515625 \n",
      " Epochs 159 and loss is 28256.658203125 \n",
      " Epochs 160 and loss is 28256.853515625 \n",
      " Epochs 161 and loss is 28257.13671875 \n",
      " Epochs 162 and loss is 28256.33984375 \n",
      " Epochs 163 and loss is 28257.111328125 \n",
      " Epochs 164 and loss is 28257.7890625 \n",
      " Epochs 165 and loss is 28256.36328125 \n",
      " Epochs 166 and loss is 28257.275390625 \n",
      " Epochs 167 and loss is 28256.51953125 \n",
      " Epochs 168 and loss is 28256.697265625 \n",
      " Epochs 169 and loss is 28256.853515625 \n",
      " Epochs 170 and loss is 28256.771484375 \n",
      " Epochs 171 and loss is 28256.34765625 \n",
      " Epochs 172 and loss is 28257.404296875 \n",
      " Epochs 173 and loss is 28257.107421875 \n",
      " Epochs 174 and loss is 28256.638671875 \n",
      " Epochs 175 and loss is 28256.916015625 \n",
      " Epochs 176 and loss is 28256.65234375 \n",
      " Epochs 177 and loss is 28257.05078125 \n",
      " Epochs 178 and loss is 28256.525390625 \n",
      " Epochs 179 and loss is 28257.173828125 \n",
      " Epochs 180 and loss is 28256.505859375 \n",
      " Epochs 181 and loss is 28256.6953125 \n",
      " Epochs 182 and loss is 28256.66796875 \n",
      " Epochs 183 and loss is 28256.708984375 \n",
      " Epochs 184 and loss is 28256.58203125 \n",
      " Epochs 185 and loss is 28256.955078125 \n",
      " Epochs 186 and loss is 28256.455078125 \n",
      " Epochs 187 and loss is 28256.9375 \n",
      " Epochs 188 and loss is 28256.826171875 \n",
      " Epochs 189 and loss is 28257.060546875 \n",
      " Epochs 190 and loss is 28256.9921875 \n",
      " Epochs 191 and loss is 28257.40234375 \n",
      " Epochs 192 and loss is 28256.349609375 \n",
      " Epochs 193 and loss is 28256.5234375 \n",
      " Epochs 194 and loss is 28258.326171875 \n",
      " Epochs 195 and loss is 28256.70703125 \n",
      " Epochs 196 and loss is 28257.44140625 \n",
      " Epochs 197 and loss is 28256.4375 \n",
      " Epochs 198 and loss is 28256.646484375 \n",
      " Epochs 199 and loss is 28257.1875 \n"
     ]
    }
   ],
   "source": [
    "def custom_train(model,loss_fn,optim,dl,epochs=200,type_ =\"Encoder\"):\n",
    "    model.train()\n",
    "    inputs,targets = None,None\n",
    "    epoch_ = []\n",
    "    loss_ = []\n",
    "    for epoch in range(epochs):\n",
    "        for mini_batch in dl:\n",
    "            \n",
    "            model.zero_grad()\n",
    "            inputs,targets = mini_batch\n",
    "            \n",
    "            outputs = model( inputs)\n",
    "            loss = loss_fn(targets,outputs)\n",
    "            loss.backward()\n",
    "            optim.step()\n",
    "            epoch_.append(epoch)\n",
    "            loss_.append(loss.item())\n",
    "            print(f\" Epochs {epoch} and loss is {loss.item()} \")\n",
    "\n",
    "    return epoch_,loss_\n",
    "\n",
    "# loss_fn = torch.nn.L1Loss()\n",
    "loss_fn = torch.nn.MSELoss()\n",
    "optim = torch.optim.Adam(model.parameters(), lr=0.01)\n",
    "# optim = torch.optim.RMSprop(model.parameters(),lr=0.01)\n",
    "seq_length =512\n",
    "epoch_,loss_ = custom_train(model,loss_fn,optim,dl)\n"
   ]
  },
  {
   "cell_type": "code",
   "execution_count": null,
   "id": "55fb6f99-b845-4e29-bc6a-e9778ecd3885",
   "metadata": {},
   "outputs": [],
   "source": [
    "import matplotlib.pyplot as plt\n",
    "plt.plot(epoch_,loss_)\n",
    "plt.xlabel('Epochs')\n",
    "plt.ylabel('MSE')\n",
    "plt.show()"
   ]
  },
  {
   "cell_type": "code",
   "execution_count": null,
   "id": "a5fb3a00-a06d-4625-9128-6914e771db44",
   "metadata": {},
   "outputs": [],
   "source": [
    "for i in dl_test:\n",
    "    for j,k in i:\n",
    "        print(\"j:\",j)"
   ]
  },
  {
   "cell_type": "code",
   "execution_count": 78,
   "id": "9959ffae-6457-41bd-80c7-1206b3f8c08d",
   "metadata": {},
   "outputs": [
    {
     "name": "stdout",
     "output_type": "stream",
     "text": [
      "Inputs: tensor([[1668., 1700., 1698.,  ..., 1437., 1439., 1458.],\n",
      "        [1700., 1698., 1702.,  ..., 1439., 1458., 1449.]])\n",
      "Predicted: tensor([[1700., 1698., 1702.,  ..., 1439., 1458., 1449.],\n",
      "        [1698., 1702., 1709.,  ..., 1458., 1449., 1437.]])\n",
      "Actuals: tensor([[1529.2378],\n",
      "        [1528.9419]], grad_fn=<GeluBackward0>)\n"
     ]
    }
   ],
   "source": [
    "#evaluation\n",
    "def eval_model(model,data_loader_test):\n",
    "    model.eval()\n",
    "    for i in data_loader_test:\n",
    "\n",
    "        inp,targ =i\n",
    "        out = model(inp)\n",
    "        print(\"Inputs:\",inp)\n",
    "        print(\"Predicted:\",targ)\n",
    "        print(\"Actuals:\",out)\n",
    "        \n",
    "        x =[]\n",
    "        for i in targ:\n",
    "            x.append(i[-1])\n",
    "        # print(x)\n",
    "    return out\n",
    "predicted_test = eval_model(model,dl_test)\n",
    "# targ_last,predicted_price"
   ]
  },
  {
   "cell_type": "code",
   "execution_count": 82,
   "id": "e9de6953-8960-4121-b174-c099cea9fdfa",
   "metadata": {},
   "outputs": [
    {
     "data": {
      "text/plain": [
       "(0.1597222222222222, -120.0)"
      ]
     },
     "execution_count": 82,
     "metadata": {},
     "output_type": "execute_result"
    }
   ],
   "source": [
    "from sklearn.metrics import r2_score, explained_variance_score\n",
    "predicted=[1529,1528]\n",
    "actual = [1449,1437]\n",
    "explained_variance_score(actual,predicted),explained_variance_score(predicted,actual,)\n"
   ]
  },
  {
   "cell_type": "code",
   "execution_count": null,
   "id": "ae15f949-a18f-4112-b325-5e579fe0aa5d",
   "metadata": {},
   "outputs": [],
   "source": [
    "def validate_test(model,inputs,test_ground_item):\n",
    "    for i in range(1,65):\n",
    "        inputs = close_price[i:i+512]\n",
    "        previous_price.append(inputs[-1])\n",
    "        inputs = torch.Tensor([inputs])\n",
    "        # ground_truth.append\n",
    "        outputs= model(inputs)\n",
    "        print(f'Predicted {outputs.item()}')\n",
    "        predicted_price.append(outputs.item())"
   ]
  },
  {
   "cell_type": "code",
   "execution_count": null,
   "id": "ae4d5b61-32c8-4f61-b78f-8d2515f90c9f",
   "metadata": {},
   "outputs": [],
   "source": [
    "previous_price = []\n",
    "predicted_price = []\n",
    "ground_truth = []\n",
    "steps = []\n",
    "test_targets = close_price[-64:]\n",
    "for i in range(1,65):\n",
    "    # print(len(close_price[i:i+512]))\n",
    "    inputs = close_price[i:i+512]\n",
    "    previous_price.append(inputs[-1])\n",
    "    inputs = torch.Tensor([inputs])\n",
    "    # ground_truth.append\n",
    "    outputs= model(inputs)\n",
    "    print(f'Predicted {outputs.item()}')\n",
    "    predicted_price.append(outputs.item())\n",
    "    # print(\"outputs.item():\",outputs.item())\n",
    "len(previous_price) ,len(predicted_price)"
   ]
  },
  {
   "cell_type": "code",
   "execution_count": null,
   "id": "a7ecef08-745b-4b30-a9f1-03043a0391dd",
   "metadata": {},
   "outputs": [],
   "source": [
    "ground_truth =torch.Tensor()"
   ]
  },
  {
   "cell_type": "code",
   "execution_count": null,
   "id": "826e9422-94aa-4504-80f6-b37e752b840e",
   "metadata": {},
   "outputs": [],
   "source": [
    "r2_score(torch.Tensor(predicted_price),torch.Tensor(ground_truth) )"
   ]
  },
  {
   "cell_type": "code",
   "execution_count": null,
   "id": "ff110b8c-4870-4fab-a5d1-823484e94632",
   "metadata": {},
   "outputs": [],
   "source": [
    "for i,j in zip(predicted_price,ground_truth):\n",
    "    print(i,j )"
   ]
  },
  {
   "cell_type": "code",
   "execution_count": null,
   "id": "4dbd6304-4c73-449a-8aed-08456956b955",
   "metadata": {},
   "outputs": [],
   "source": [
    "df_predicted = df[['date','close']][-63:]\n",
    "df_predicted[-1]=\n",
    "# df_predicted['predicted'] = predicted_price\n",
    "df_predicted.index"
   ]
  },
  {
   "cell_type": "code",
   "execution_count": null,
   "id": "3234d6dc-58b4-451d-a43f-a0cbe2451ff6",
   "metadata": {},
   "outputs": [],
   "source": [
    "df_predicted.loc[len(df_predicted.index)] = [ , 0,0]"
   ]
  },
  {
   "cell_type": "code",
   "execution_count": null,
   "id": "e38b5f90-5b32-4df1-b344-76aa37a25106",
   "metadata": {},
   "outputs": [],
   "source": [
    "df_predicted[-1] = [df['date'].iloc[-1] + timedelta(days=1), 0,0]"
   ]
  },
  {
   "cell_type": "code",
   "execution_count": null,
   "id": "3db21f5d-96b6-4484-8d17-b82e16885ef7",
   "metadata": {},
   "outputs": [],
   "source": [
    "sequence_length = 5\n",
    "batch_size = 1\n",
    "\n",
    "# Create a sample attention mask\n",
    "attn_mask = torch.ones( 1, sequence_length)\n",
    "\n",
    "# Print the attention mask\n",
    "print(attn_mask,attn_mask.shape,attn_mask.unsqueeze(0).shape)"
   ]
  },
  {
   "cell_type": "code",
   "execution_count": null,
   "id": "f7ff32e0-04f8-4dc8-bd22-acafc944e79c",
   "metadata": {},
   "outputs": [],
   "source": [
    "x  = torch.nn.CrossEntropyLoss() \n",
    "y = torch.Tensor([1,2])\n",
    "z = torch.Tensor([2,2])\n",
    "\n",
    "x(y,z)"
   ]
  },
  {
   "cell_type": "code",
   "execution_count": null,
   "id": "1f541c93-13dc-406f-9d93-f8fb31ce9f3a",
   "metadata": {},
   "outputs": [],
   "source": [
    "import torch\n",
    "from torch import nn"
   ]
  },
  {
   "cell_type": "code",
   "execution_count": null,
   "id": "76f73239-f9eb-4f68-b3c5-20ff33007b7d",
   "metadata": {},
   "outputs": [],
   "source": [
    "model = torch.nn.Transformer()\n",
    "model"
   ]
  },
  {
   "cell_type": "code",
   "execution_count": null,
   "id": "5703df31-4cbc-4f8d-9489-e67008f24247",
   "metadata": {},
   "outputs": [],
   "source": []
  }
 ],
 "metadata": {
  "kernelspec": {
   "display_name": "Python 3 (ipykernel)",
   "language": "python",
   "name": "python3"
  },
  "language_info": {
   "codemirror_mode": {
    "name": "ipython",
    "version": 3
   },
   "file_extension": ".py",
   "mimetype": "text/x-python",
   "name": "python",
   "nbconvert_exporter": "python",
   "pygments_lexer": "ipython3",
   "version": "3.10.9"
  }
 },
 "nbformat": 4,
 "nbformat_minor": 5
}
